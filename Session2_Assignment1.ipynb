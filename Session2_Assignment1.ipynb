{
 "cells": [
  {
   "cell_type": "markdown",
   "metadata": {},
   "source": [
    "<h3> Session2 Assignment 1 </h3>"
   ]
  },
  {
   "cell_type": "code",
   "execution_count": 4,
   "metadata": {},
   "outputs": [
    {
     "name": "stdout",
     "output_type": "stream",
     "text": [
      "Please enter only numeric comma separated values\n"
     ]
    }
   ],
   "source": [
    "userValue = input('Enter comma separated numeric values ')\n",
    "numericList = userValue.split(\",\")\n",
    "\n",
    "for i in numericList:\n",
    "    if(not i.isnumeric()):\n",
    "        print('Please enter only numeric comma separated values')\n",
    "        break\n",
    "else:\n",
    "    print('Here is the List created from comma separated values provided by you: {}' .format(numericList))"
   ]
  },
  {
   "cell_type": "markdown",
   "metadata": {},
   "source": [
    "<h3> Same example like above but running with only numeric values </h3>"
   ]
  },
  {
   "cell_type": "code",
   "execution_count": 5,
   "metadata": {},
   "outputs": [
    {
     "name": "stdout",
     "output_type": "stream",
     "text": [
      "Here is the List created from comma separated values provided by you: ['12', '34', '67', '9']\n"
     ]
    }
   ],
   "source": [
    "userValue = input('Enter comma separated numeric values ')\n",
    "numericList = userValue.split(\",\")\n",
    "\n",
    "for i in numericList:\n",
    "    if(not i.isnumeric()):\n",
    "        print('Please enter only numeric comma separated values')\n",
    "        break\n",
    "else:\n",
    "    print('Here is the List created from comma separated values provided by you: {}' .format(numericList))"
   ]
  },
  {
   "cell_type": "code",
   "execution_count": null,
   "metadata": {},
   "outputs": [],
   "source": []
  }
 ],
 "metadata": {
  "kernelspec": {
   "display_name": "Python 3",
   "language": "python",
   "name": "python3"
  },
  "language_info": {
   "codemirror_mode": {
    "name": "ipython",
    "version": 3
   },
   "file_extension": ".py",
   "mimetype": "text/x-python",
   "name": "python",
   "nbconvert_exporter": "python",
   "pygments_lexer": "ipython3",
   "version": "3.6.5"
  }
 },
 "nbformat": 4,
 "nbformat_minor": 2
}
